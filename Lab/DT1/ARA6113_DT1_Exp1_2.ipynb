{
 "cells": [
  {
   "cell_type": "markdown",
   "id": "a976ca53-a238-4f3c-861b-1ffe0116ea26",
   "metadata": {},
   "source": [
    "## Lab DT1 Experiment 1.2\n",
    "Name:  \n",
    "Student ID:  \n",
    "Date: "
   ]
  },
  {
   "cell_type": "code",
   "execution_count": null,
   "id": "2556ab3a-2c98-4852-bdde-37bcfbc14a72",
   "metadata": {},
   "outputs": [],
   "source": [
    "# Experiment 1.2 Part 1\n",
    "from searches import bfs, dfs, all_paths_search\n"
   ]
  },
  {
   "cell_type": "code",
   "execution_count": null,
   "id": "7989c70f-d62b-4aaf-9ddc-83cc55c4abd7",
   "metadata": {},
   "outputs": [],
   "source": [
    "# Experiment 1.2 Part 2\n",
    "from searches import bfs, dfs, all_paths_search\n"
   ]
  }
 ],
 "metadata": {
  "kernelspec": {
   "display_name": "Python 3 (ipykernel)",
   "language": "python",
   "name": "python3"
  },
  "language_info": {
   "codemirror_mode": {
    "name": "ipython",
    "version": 3
   },
   "file_extension": ".py",
   "mimetype": "text/x-python",
   "name": "python",
   "nbconvert_exporter": "python",
   "pygments_lexer": "ipython3",
   "version": "3.7.16"
  }
 },
 "nbformat": 4,
 "nbformat_minor": 5
}
