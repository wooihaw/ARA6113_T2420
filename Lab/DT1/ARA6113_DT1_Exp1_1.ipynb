{
 "cells": [
  {
   "cell_type": "markdown",
   "id": "a976ca53-a238-4f3c-861b-1ffe0116ea26",
   "metadata": {},
   "source": [
    "## Lab DT1 Experiment 1.1\n",
    "Name:  \n",
    "Student ID:  \n",
    "Date: "
   ]
  },
  {
   "cell_type": "code",
   "execution_count": null,
   "id": "2556ab3a-2c98-4852-bdde-37bcfbc14a72",
   "metadata": {},
   "outputs": [],
   "source": [
    "from searches import bfs, dfs, all_paths_search\n"
   ]
  }
 ],
 "metadata": {
  "kernelspec": {
   "display_name": "Python 3 (ipykernel)",
   "language": "python",
   "name": "python3"
  },
  "language_info": {
   "codemirror_mode": {
    "name": "ipython",
    "version": 3
   },
   "file_extension": ".py",
   "mimetype": "text/x-python",
   "name": "python",
   "nbconvert_exporter": "python",
   "pygments_lexer": "ipython3",
   "version": "3.7.16"
  }
 },
 "nbformat": 4,
 "nbformat_minor": 5
}
